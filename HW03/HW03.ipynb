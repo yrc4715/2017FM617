{
 "cells": [
  {
   "cell_type": "code",
   "execution_count": 1,
   "metadata": {
    "collapsed": true
   },
   "outputs": [],
   "source": [
    "#載入套件requests及 BeautifulSoup\n",
    "import requests\n",
    "from bs4 import BeautifulSoup"
   ]
  },
  {
   "cell_type": "code",
   "execution_count": 2,
   "metadata": {
    "collapsed": true
   },
   "outputs": [],
   "source": [
    "# url=目標網址\n",
    "url = 'http://news.cnyes.com/Content/20151214/20151214080543107512510.shtml?c=headline'"
   ]
  },
  {
   "cell_type": "code",
   "execution_count": 24,
   "metadata": {
    "collapsed": true
   },
   "outputs": [],
   "source": [
    "#利用request對該網頁做出請求,從鉅亨網的伺服器得到該網頁的資源\n",
    "#設定字元編碼為UTF-8\n",
    "r = requests.get(url)\n",
    "r.encoding = \"UTF-8\"\n",
    "\n",
    "#利用BeautifulSoup去抓下網頁中的文字\n",
    "#利用soup.select去選取出網頁中新聞中內文的部分,並定義為\"mews_text\"\n",
    "soup = BeautifulSoup(r.text, \"lxml\")\n",
    "news_text = soup.select('div[itemprop=\"articleBody\"]')[0].text\n"
   ]
  },
  {
   "cell_type": "code",
   "execution_count": 4,
   "metadata": {
    "collapsed": true
   },
   "outputs": [],
   "source": [
    "#利用soup.select去選取出網頁中新聞總結的部分,並定義為\"mews_summary\"\n",
    "news_summary = soup.select('p')[0].text"
   ]
  },
  {
   "cell_type": "code",
   "execution_count": 5,
   "metadata": {
    "scrolled": true
   },
   "outputs": [
    {
     "data": {
      "text/plain": [
       "'台股上週五因為信心不足，終場下跌100.28點，以8115.89點作收，成交值874.35億元；周線則以下跌282.71點收長黑。展望今(14)日台股，美股在台灣時間上週六清晨以重挫309點坐收，內外交迫，今天恐回測本波起漲點8059點。\\n回顧上週的台股，上週五周線以長黑的下跌282.71點坐收，賣壓蓋頭，主要是內、外資都不挺台股，主力股、法人股的籌碼面混亂。外資因為美國FED即將升息，在期、現聯手偏空操作，內資法人則是因為年底做賬，獲利了結出場。\\xa0\\n而在台灣時間上週六(12日)清晨收盤的美股，則因油價接近7年低點，加上併購案暗示經濟不佳，道瓊以重挫309點坐收，再度不利台股的止跌回升。\\n法人預期，若是外、內資繼續賣超台股，今天恐將回測本波起漲點8059點。在此賣壓籠罩的盤勢之下，低P/E、高現金殖利率或產業即將谷底翻升的個股，是現階段可以逢低酌量佈局的投資標的。\\n重大新聞方面，焦點還是中國紫光在台灣與全球的併購。國民黨總統候選人朱立倫日前表態，IC設計產業對台灣經濟非常敏感，若他當選總統，不會允許IC設計業對中國開放投資，因為現在時機尚未成熟。\\n而紫光集團董事長趙偉國昨日對媒體表示，投資力成、矽品與南茂，和軍事、安全沒有關係，紫光也不謀求對企業的控制權，更不存在壟斷問題，他看不出不批准的理由。\\n另一方面，紫光集團下一步將爭取入股美光及英特爾兩大握有記憶體關鍵技術的大廠，合作案已進入緊鑼密鼓階段。值此之際，台廠再度扮演關鍵角色，美光近期將整合旗下華亞科、瑞晶等廠區製造資源，以為與紫光合作預做準備。'"
      ]
     },
     "execution_count": 5,
     "metadata": {},
     "output_type": "execute_result"
    }
   ],
   "source": [
    "#列出news_text的內容\n",
    "news_text"
   ]
  },
  {
   "cell_type": "code",
   "execution_count": 6,
   "metadata": {},
   "outputs": [],
   "source": [
    "#載入套件jieba及jieba.analyse\n",
    "import jieba\n",
    "import jieba.analyse"
   ]
  },
  {
   "cell_type": "code",
   "execution_count": 8,
   "metadata": {},
   "outputs": [],
   "source": [
    "#將斷詞詞庫切換dict.txt這個檔案\n",
    "jieba.set_dictionary(\"dict.txt\" )"
   ]
  },
  {
   "cell_type": "code",
   "execution_count": 9,
   "metadata": {
    "scrolled": false
   },
   "outputs": [
    {
     "name": "stderr",
     "output_type": "stream",
     "text": [
      "Building prefix dict from C:\\Users\\YIRU\\Desktop\\dict.txt ...\n",
      "Dumping model to file cache C:\\Users\\YIRU\\AppData\\Local\\Temp\\jieba.uf2d993512b770ac4bb391aa7a622c33e.cache\n",
      "Loading model cost 0.919 seconds.\n",
      "Prefix dict has been built succesfully.\n"
     ]
    }
   ],
   "source": [
    "#利用jieba.analyse.extract_tags去找出news_text中前十大關鍵詞\n",
    "keywords = jieba.analyse.extract_tags(news_text, topK=10, withWeight=False)"
   ]
  },
  {
   "cell_type": "code",
   "execution_count": 10,
   "metadata": {},
   "outputs": [
    {
     "data": {
      "text/plain": [
       "['紫光', '台股', '台灣', '坐收', '282.71', '美股', '時間', '週六', '309', '漲點']"
      ]
     },
     "execution_count": 10,
     "metadata": {},
     "output_type": "execute_result"
    }
   ],
   "source": [
    "#列出由上述方法選出的keywords\n",
    "keywords"
   ]
  },
  {
   "cell_type": "code",
   "execution_count": 11,
   "metadata": {},
   "outputs": [
    {
     "name": "stdout",
     "output_type": "stream",
     "text": [
      "紫光/ 台股/ 台灣/ 坐收/ 282.71/ 美股/ 時間/ 週六/ 309/ 漲點\n"
     ]
    }
   ],
   "source": [
    "#列出所有關鍵字，並以\"/\"作為分隔\n",
    "print( \"/ \".join(keywords))"
   ]
  },
  {
   "cell_type": "code",
   "execution_count": 12,
   "metadata": {},
   "outputs": [
    {
     "name": "stdout",
     "output_type": "stream",
     "text": [
      "[('紫光', 0.2359927048907143), ('台股', 0.22770985719809522), ('台灣', 0.22770985719809522), ('坐收', 0.15203687305714286), ('282.71', 0.11385492859904761), ('美股', 0.11385492859904761), ('時間', 0.11385492859904761), ('週六', 0.11385492859904761), ('309', 0.11385492859904761), ('漲點', 0.11385492859904761)]\n"
     ]
    }
   ],
   "source": [
    "#將所有選出的關鍵字及其對應的權重以字串的形式顯示\n",
    "print (repr(jieba.analyse.extract_tags(news_text, topK=10, withWeight=True)))"
   ]
  },
  {
   "cell_type": "code",
   "execution_count": 13,
   "metadata": {},
   "outputs": [
    {
     "name": "stdout",
     "output_type": "stream",
     "text": [
      "[('坐收', 1.0), ('投資', 0.937358898312438), ('產業', 0.9137121813861436), ('台灣', 0.8701298636106816), ('下跌', 0.8346040590604339), ('關鍵', 0.7529930500810723), ('中國', 0.7156383545530238), ('內資', 0.6705947113787015), ('合作', 0.6625992095514125), ('看不出', 0.6062234879548284)]\n"
     ]
    }
   ],
   "source": [
    "#將所有選出的關鍵字及其對應的權重以字串的形式顯示\n",
    "print (repr(jieba.analyse.textrank(news_text, topK=10, withWeight=True)))"
   ]
  },
  {
   "cell_type": "code",
   "execution_count": 25,
   "metadata": {
    "collapsed": true
   },
   "outputs": [],
   "source": [
    "#定義函式為index_of_keyword(sentences, keyword)，利用for迴圈，i為函式中第一項至最後一項，而若keyword為在前面所選出的那十個關鍵詞，便返回至i,若不在其中，則返回-1。  \n",
    "def index_of_keyword(sentences, keyword):\n",
    "    for i, s in enumerate(sentences):\n",
    "        if keyword in s:\n",
    "              return i\n",
    "    return -1"
   ]
  },
  {
   "cell_type": "code",
   "execution_count": 15,
   "metadata": {},
   "outputs": [
    {
     "data": {
      "text/plain": [
       "13"
      ]
     },
     "execution_count": 15,
     "metadata": {},
     "output_type": "execute_result"
    }
   ],
   "source": [
    "#將內文中編碼為以\"\\n\"者，取代為空格\" \"，再以\"。\"做為切割的節點，並將結果命名為sentences\n",
    "#利用len去計算共有幾項\n",
    "sentences = news_text.replace(\"\\n\",\"\").split(u\"。\")\n",
    "len(sentences)"
   ]
  },
  {
   "cell_type": "code",
   "execution_count": 16,
   "metadata": {},
   "outputs": [
    {
     "name": "stdout",
     "output_type": "stream",
     "text": [
      "台股上週五因為信心不足，終場下跌100.28點，以8115.89點作收，成交值874.35億元；周線則以下跌282.71點收長黑。\n",
      "展望今(14)日台股，美股在台灣時間上週六清晨以重挫309點坐收，內外交迫，今天恐回測本波起漲點8059點。\n",
      "回顧上週的台股，上週五周線以長黑的下跌282.71點坐收，賣壓蓋頭，主要是內、外資都不挺台股，主力股、法人股的籌碼面混亂。\n",
      "外資因為美國FED即將升息，在期、現聯手偏空操作，內資法人則是因為年底做賬，獲利了結出場。\n",
      " 而在台灣時間上週六(12日)清晨收盤的美股，則因油價接近7年低點，加上併購案暗示經濟不佳，道瓊以重挫309點坐收，再度不利台股的止跌回升。\n",
      "法人預期，若是外、內資繼續賣超台股，今天恐將回測本波起漲點8059點。\n",
      "在此賣壓籠罩的盤勢之下，低P/E、高現金殖利率或產業即將谷底翻升的個股，是現階段可以逢低酌量佈局的投資標的。\n",
      "重大新聞方面，焦點還是中國紫光在台灣與全球的併購。\n",
      "國民黨總統候選人朱立倫日前表態，IC設計產業對台灣經濟非常敏感，若他當選總統，不會允許IC設計業對中國開放投資，因為現在時機尚未成熟。\n",
      "而紫光集團董事長趙偉國昨日對媒體表示，投資力成、矽品與南茂，和軍事、安全沒有關係，紫光也不謀求對企業的控制權，更不存在壟斷問題，他看不出不批准的理由。\n",
      "另一方面，紫光集團下一步將爭取入股美光及英特爾兩大握有記憶體關鍵技術的大廠，合作案已進入緊鑼密鼓階段。\n",
      "值此之際，台廠再度扮演關鍵角色，美光近期將整合旗下華亞科、瑞晶等廠區製造資源，以為與紫光合作預做準備。\n",
      "。\n"
     ]
    }
   ],
   "source": [
    "#將這13個以\"。\"切割的斷句列出，並在每句末加上句號\"。\"\n",
    "for sentence in sentences:\n",
    "    print (sentence + u\"。\")"
   ]
  },
  {
   "cell_type": "code",
   "execution_count": 17,
   "metadata": {},
   "outputs": [
    {
     "data": {
      "text/plain": [
       "7"
      ]
     },
     "execution_count": 17,
     "metadata": {},
     "output_type": "execute_result"
    }
   ],
   "source": [
    "#利用關鍵字\"紫光\"，去找出斷句中包含紫光的句子\n",
    "index_of_keyword(sentences,u\"紫光\")"
   ]
  },
  {
   "cell_type": "code",
   "execution_count": 18,
   "metadata": {},
   "outputs": [
    {
     "name": "stdout",
     "output_type": "stream",
     "text": [
      "重大新聞方面，焦點還是中國紫光在台灣與全球的併購。\n"
     ]
    }
   ],
   "source": [
    "#列出斷句中有\"紫光\"的句子，並加上句號。\n",
    "print (sentences[index_of_keyword(sentences,u\"紫光\")]+u\"。\")"
   ]
  },
  {
   "cell_type": "code",
   "execution_count": 31,
   "metadata": {},
   "outputs": [
    {
     "data": {
      "text/plain": [
       "64"
      ]
     },
     "execution_count": 31,
     "metadata": {},
     "output_type": "execute_result"
    }
   ],
   "source": [
    "#計算出共有幾個sentences\n",
    "len(sentences[0])"
   ]
  },
  {
   "cell_type": "code",
   "execution_count": 20,
   "metadata": {
    "collapsed": true
   },
   "outputs": [],
   "source": [
    "#若keyword有包含前面所選出的十個關鍵字，則列出該關鍵字及其所對應的句子，再將這些含有關鍵字的句子列在一起。\n",
    "s_index = []\n",
    "for keyword in keywords[:3]:\n",
    "    s_index.append(index_of_keyword(sentences,keyword))\n",
    "\n",
    "s_set = set(s_index)\n",
    "s_index = list(s_set)"
   ]
  },
  {
   "cell_type": "code",
   "execution_count": 21,
   "metadata": {
    "collapsed": true
   },
   "outputs": [],
   "source": [
    "#將選出的這些句子列出組合後，加上\"。\"，並命名為summary\n",
    "summary = \"\"\n",
    "for i in s_index:\n",
    "    summary += sentences[i]+u\"。\""
   ]
  },
  {
   "cell_type": "code",
   "execution_count": 22,
   "metadata": {},
   "outputs": [
    {
     "name": "stdout",
     "output_type": "stream",
     "text": [
      "台股上週五因為信心不足，終場下跌100.28點，以8115.89點作收，成交值874.35億元；周線則以下跌282.71點收長黑。展望今(14)日台股，美股在台灣時間上週六清晨以重挫309點坐收，內外交迫，今天恐回測本波起漲點8059點。重大新聞方面，焦點還是中國紫光在台灣與全球的併購。\n"
     ]
    }
   ],
   "source": [
    "#列出summary\n",
    "print (summary)"
   ]
  },
  {
   "cell_type": "code",
   "execution_count": 23,
   "metadata": {
    "scrolled": false
   },
   "outputs": [
    {
     "name": "stdout",
     "output_type": "stream",
     "text": [
      "台股上週五因為信心不足，終場下跌100.28點，以8115.89點作收，成交值874.35億元；周線則以下跌282.71點收長黑。展望今(14)日台股，美股在台灣時間上週六清晨以重挫309點坐收，內外交迫，今天恐回測本波起漲點8059點。\n"
     ]
    }
   ],
   "source": [
    "#列出news_summary\n",
    "print (news_summary)"
   ]
  }
 ],
 "metadata": {
  "kernelspec": {
   "display_name": "Python 3",
   "language": "python",
   "name": "python3"
  },
  "language_info": {
   "codemirror_mode": {
    "name": "ipython",
    "version": 3
   },
   "file_extension": ".py",
   "mimetype": "text/x-python",
   "name": "python",
   "nbconvert_exporter": "python",
   "pygments_lexer": "ipython3",
   "version": "3.6.3"
  }
 },
 "nbformat": 4,
 "nbformat_minor": 2
}
