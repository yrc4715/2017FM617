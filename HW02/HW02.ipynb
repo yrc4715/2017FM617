{
 "cells": [
  {
   "cell_type": "code",
   "execution_count": 79,
   "metadata": {
    "scrolled": true
   },
   "outputs": [
    {
     "name": "stdout",
     "output_type": "stream",
     "text": [
      "Hello World!\n",
      "This is Alice's greeting!\n",
      "This is Bob's greeting!\n",
      " 5 plus 10 is equal to 15 \n",
      "foo\n",
      "==========\n",
      "current working dictionary isC:\\Users\\User\\Desktop\\QF20170921-master\\01_basics\\HW02\n",
      "I like to eat　apples\n",
      "I like to eat　oranges\n",
      "I like to eat　cats\n",
      "Count to ten\n",
      "1\n",
      "2\n",
      "3\n",
      "4\n",
      "5\n",
      "6\n",
      "7\n",
      "8\n",
      "9\n",
      "10\n"
     ]
    }
   ],
   "source": [
    " #載入模組\n",
    "import os \n",
    "#定義函式名為main\n",
    "def main():\n",
    "    #列出 Hello World!\n",
    "    print('Hello World!') \n",
    "    #列出 This is Alice's greeting!\n",
    "    print(\"This is Alice's greeting!\") \n",
    "    #列出 This is Bob's greeting!\n",
    "    print('This is Bob\\'s greeting!')  \n",
    "    \n",
    "    #給定function foo的變數為(5,10)\n",
    "    foo(5,10)\n",
    "    #列出 ==========\n",
    "    print('='*10)\n",
    "    #列出 current working dictionary isC:\\Users\\User\\Desktop\\QF20170921-master\\01_basics\\HW02\n",
    "    print('current working dictionary is'+ str(os.getcwd())) \n",
    "     \n",
    "    #將變數實例化\n",
    "    counter = 0\n",
    "    counter += 1\n",
    "    \n",
    "    #創立food列表,裡面包含apple,orange,cat\n",
    "    food = ['apples','oranges','cats']\n",
    "    #利用for迴圈,i為列表中第一項至最後一項,故可列出 I like to eat apples I like to eat oranges I like to eat cats　\n",
    "    for i in food :\n",
    "        print('I like to eat　' + i)\n",
    "    \n",
    "    #列出Count to ten\n",
    "    print('Count to ten') \n",
    "    #利用for迴圈,i為(0,1,2,3,4,5,6,7,8,9),故設定列出i+1,即可列出1,2,3,4,5,6,7,8,9,10\n",
    "    for i in range(10) :\n",
    "        print(i+1)\n",
    "\n",
    "#定義函式名為foo,變數為(param1,secondParam)\n",
    "def foo(param1,secondParam):\n",
    "    #令 res = param1 + secondParam\n",
    "    res = param1 + secondParam\n",
    "    #列出 %s plus %s is equal to %s ,而 %s會由給定的變數所取代\n",
    "    print(\" %s plus %s is equal to %s \" % (param1 , secondParam , res))\n",
    "    \n",
    "    #建立條件式,如果res大於50則列出 foo\n",
    "    if res < 50:\n",
    "        print('foo')\n",
    "    #若 res大於或等於 50,或變數 1為 42 ,或變數2為,則列出 bar\n",
    "    elif (res >= 50) and ((param1 == 42) or (secondParam == 24)):\n",
    "        print('bar')\n",
    "    #若不滿足上述任一條件,則列出 moo\n",
    "    else:\n",
    "        print('moo')\n",
    "    #返回res值    \n",
    "    return res #This is a one-line comment.\n",
    "    '''A multi-line string, but can also be a multi-line comment.'''\n",
    "\n",
    "#若 __name__為 __main__,則導入函式main\n",
    "if __name__ == \"__main__\":\n",
    "    main()\n"
   ]
  },
  {
   "cell_type": "code",
   "execution_count": null,
   "metadata": {
    "collapsed": true
   },
   "outputs": [],
   "source": []
  }
 ],
 "metadata": {
  "kernelspec": {
   "display_name": "Python 3",
   "language": "python",
   "name": "python3"
  },
  "language_info": {
   "codemirror_mode": {
    "name": "ipython",
    "version": 3
   },
   "file_extension": ".py",
   "mimetype": "text/x-python",
   "name": "python",
   "nbconvert_exporter": "python",
   "pygments_lexer": "ipython3",
   "version": "3.6.3"
  }
 },
 "nbformat": 4,
 "nbformat_minor": 2
}
